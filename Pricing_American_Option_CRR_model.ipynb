{
 "cells": [
  {
   "cell_type": "markdown",
   "id": "774c5429-9c1e-4b7b-b825-bb093e777483",
   "metadata": {},
   "source": [
    "## Pricing of american option under the CRR model - Constantin Gleyze"
   ]
  },
  {
   "cell_type": "markdown",
   "id": "a976b47d-d8c2-43c8-9945-fbeda8e59ffc",
   "metadata": {},
   "source": [
    "The goal of this project is to propose an algorithm to price options within the Cox-Ross-Rubinstein (CRR) paradigm. \n",
    "\n",
    "A sepcific example for americcan put will be done. \n",
    "\n",
    "We therefore consider a put of maturity $T$. The holder can decide to exercice it at every step of discretisation. \n",
    "\n",
    "More precisely, for $T$, we discretize with $N$ step equally. \n",
    "\n",
    "For each $n$  in {$0$,....,$N$}, the holder can exercise at $t_n:=n\\Delta t=n\\times \\frac{T}{N}$. \n",
    "\n",
    "We remember the backward algorithm used in the CRR model to price american options. \n",
    "\n",
    "We fix: \n",
    "- $V_n(.)$ the value of the option\n",
    "- $X_n$ the value of our underlying at each time $n$  in {$0$,....,$N$}\n",
    "- $Z_n =\\phi_n(X)$ the actualized payoff of our option at time $t_n$\n",
    "\n",
    "We are looking for $V_0(X_0) = \\sup_{\\tau \\in \\mathcal{T}_0^N}\\mathbb{E}_{\\mathbb{Q}}[Z_\\tau]$ with $\\tau \\in \\mathcal{T}_0^N$ the set of stopping times with $\\mathbb{Q}$  always surely values in {$t_0$,....,$t_N$}. \n",
    "\n",
    "In the CRR model, the underlying can increase from a factor $u$ or decrease from a factor $d$ = $1/u$. \n",
    "\n",
    "The underlying process $(X_n)_{n=0,\\dots,N}$ is a Markov Chain with transition kernel $(P_n)_{n=0,\\dots,N-1}$ such that, by denoting $E$ the set of all possible value of $X$ : \n",
    "\n",
    "$\\begin{equation*}\n",
    "\\forall 1 \\leq n\\leq {N}, \\forall x, y \\in E, \\quad\n",
    "P_{n+1}(x, y) = \\mathbb{Q}(X_{n+1} = y|X_{n}=x) = \\begin{cases}\n",
    "q & \\text{if } \\frac{y}{x} = u, \\\\\n",
    "1-q & \\text{if } \\frac{y}{x} = d, \\\\\n",
    "0 & \\text{otherwise} \\\\\n",
    "\\end{cases}\n",
    "\\end{equation*}$\n",
    "\n",
    "Within the non-arbitrage hypothesis, we have a unique neutral risk probability $\\mathbb{Q}$ such that : \n",
    "\n",
    "$q = \\frac{\\exp(r\\Delta t)-d}{u-d}$ with $r$ the risk-free rate. \n",
    "\n",
    "To compute the value of the option, we use the following backward algorithm : \n",
    "\n",
    "$\\begin{equation*}\n",
    "\\begin{cases}\n",
    "V_N(x)&=& \\phi_N(x) \\\\\n",
    "V_n(x)& =& \\max(\\phi_n(x),P_{n+1}V_{n+1}(x)), \\quad 0\\leq n \\leq N-1\n",
    "\\end{cases}\n",
    "\\end{equation*}$\n",
    "\n",
    "With $P_{n+1}V_{n+1}(x) = \\mathbb{E}[V_{n+1}(X_{n+1})\\mid X_n = x]$. \n",
    "\n",
    "In the case of E finite (our case), it can be rewritten as : $P_{n+1}V_{n+1}(x) = \\sum_{y \\in E} P_{n+1}(x, y) V_{n+1}(y)$. \n",
    "\n",
    "We implement the above algorithm. "
   ]
  },
  {
   "cell_type": "code",
   "execution_count": 90,
   "id": "6800ff20-0da8-4b74-b6b9-b57e5ecfe990",
   "metadata": {},
   "outputs": [],
   "source": [
    "#Import of necessary librairies \n",
    "import numpy as np\n",
    "import scipy.sparse"
   ]
  },
  {
   "cell_type": "code",
   "execution_count": 91,
   "id": "ed3de186-0244-4788-b9c9-0fabbb54ce9e",
   "metadata": {},
   "outputs": [],
   "source": [
    "#We define our methods through a class\n",
    "\n",
    "class CRR(): \n",
    "\n",
    "    #Initialisation of parameters\n",
    "    def __init__ (self, N,T,r,K,div, u,d,S0): \n",
    "        self.__N = N\n",
    "        self.__T = T\n",
    "        self.__r = r\n",
    "        self.__K = K\n",
    "        self.__div = div\n",
    "        self.__dt = self.__T/self.__N\n",
    "        self.__u = u\n",
    "        self.__d = d\n",
    "        self.__q = (np.exp(self.__r*self.__dt)-self.__d) / (self.__u - self.__d)\n",
    "        self.__S0 = S0\n",
    "        self.__actu = np.exp(-(self.__r - self.__div)*self.__dt)\n",
    "\n",
    "    #Generation of all our possibles prices \n",
    "    #Use of csr matrix to speed the next computations\n",
    "    def price_matrix (self): \n",
    "        S = scipy.sparse.lil_matrix((self.__N+1, self.__N+1))  \n",
    "        for i in range(self.__N+1):\n",
    "            for j in range(i+1): \n",
    "                S[j, i] = self.__S0 * (self.__u ** (i-j)) * (self.__d ** (j))  \n",
    "        return S.tocsr()  \n",
    "\n",
    "    #Function to obtain the price by implementing the above backward algorithm\n",
    "    def price_option(self,payoff_function): \n",
    "        S = self.price_matrix() #Generation of our prices \n",
    "        V = payoff_function(S[:,-1],self.__K) #We apply our payoff_function to our last prices\n",
    "    \n",
    "        for i in range(self.__N - 1, -1,-1): \n",
    "            \n",
    "            size = i +1\n",
    "            P = scipy.sparse.diags([self.__q, (1 - self.__q)],[0,1],shape=(size, size+1),format='csr') #We compute our transition kernel \n",
    "            markov_state = self.__actu*P@V # We compute our pondered set of possible values from time i-1 to i \n",
    "            intrinsec_value = payoff_function(S[:size,i],self.__K) #We compute the intrinsec value of the option i.e its value if exerced \n",
    "            V = markov_state.maximum(intrinsec_value) #We take the maximum and then return the price \n",
    "            \n",
    "        return V[0,0]"
   ]
  },
  {
   "cell_type": "markdown",
   "id": "b0484556-8a28-45e4-83c1-1a6847ed5eeb",
   "metadata": {},
   "source": [
    "By denoting $\\sigma$ the volatility of our underlying $X$, we can observe a convergence with the Black Sholes prices by using : \n",
    "\n",
    "$u = e^{\\sigma \\sqrt{\\Delta t}}$ with $\\Delta t$ = $t_{i+1} - t_i$ for i in {$0$,....,$N-1$}. \n",
    "\n",
    "We will use a comparaison for the results the website https://www.coggit.com/freetools. "
   ]
  },
  {
   "cell_type": "code",
   "execution_count": 92,
   "id": "366903bc-c357-43c7-a90b-6b33c591523e",
   "metadata": {},
   "outputs": [],
   "source": [
    "def payoff_put(S_i,K):\n",
    "    return scipy.sparse.csr_matrix(np.full(S_i.shape, K) - S_i).maximum(0)\n",
    "def payoff_call(S_i,K):\n",
    "    return scipy.sparse.csr_matrix(-np.full(S_i.shape, K) + S_i).maximum(0)"
   ]
  },
  {
   "cell_type": "markdown",
   "id": "dee94ecb-a922-41ba-9e76-3a8f16aa38be",
   "metadata": {},
   "source": [
    "### ATM Put"
   ]
  },
  {
   "cell_type": "markdown",
   "id": "512d6d2d-2976-4719-9c64-63222d2699f5",
   "metadata": {},
   "source": [
    "We will price an At-The-Money (ATM) without dividends Put with the following parameters : \n",
    "\n",
    "- $r$ = 5%\n",
    "- $\\sigma$ = 20%\n",
    "- $T$ = 1 year\n",
    "- $S_0$ = 100\n",
    "- $K$ = 100\n",
    "- $N$ = 200\n",
    "\n",
    "The exact price for the put is $6.10$. "
   ]
  },
  {
   "cell_type": "code",
   "execution_count": 93,
   "id": "6b03e251-b91a-4338-af88-ea9a792500cc",
   "metadata": {},
   "outputs": [
    {
     "name": "stdout",
     "output_type": "stream",
     "text": [
      " Put price ATM : 6.0864\n"
     ]
    }
   ],
   "source": [
    "T = 1\n",
    "sigma = 0.2\n",
    "N = 200\n",
    " \n",
    "dt = T/N\n",
    "u = np.exp(sigma * np.sqrt(dt))  \n",
    "d = 1 / u  \n",
    "\n",
    "crr_model = CRR(N=N, T=T, r=0.05, K=100,div = 0, u=u, d=d, S0=100)\n",
    "\n",
    "\n",
    "# Calcul du prix du Put\n",
    "put_price = crr_model.price_option(payoff_function=payoff_put)\n",
    "print(f\" Put price ATM : {put_price:.4f}\")"
   ]
  },
  {
   "cell_type": "markdown",
   "id": "7055d815-3438-4863-af3f-54c7a6f8900e",
   "metadata": {},
   "source": [
    "### OTM Put"
   ]
  },
  {
   "cell_type": "markdown",
   "id": "b3aae76c-3509-4aa2-84af-e6c1d82e2a3d",
   "metadata": {},
   "source": [
    "We will price an Out-The-Money (OTM) Put without dividends with the following parameters : \n",
    "\n",
    "- $r$ = 5%\n",
    "- $\\sigma$ = 20%\n",
    "- $T$ = 1 year\n",
    "- $S_0$ = 100\n",
    "- $K$ = 80\n",
    "- $N$ = 200\n",
    " \n",
    "The exact price for the put is $0.76$."
   ]
  },
  {
   "cell_type": "code",
   "execution_count": 94,
   "id": "f5895b3c-8237-446e-9d3f-538a856690b2",
   "metadata": {},
   "outputs": [
    {
     "name": "stdout",
     "output_type": "stream",
     "text": [
      " Put price OTM : 0.7228\n"
     ]
    }
   ],
   "source": [
    "T = 1\n",
    "sigma = 0.2\n",
    "N = 200\n",
    " \n",
    "dt = T/N\n",
    "u = np.exp(sigma * np.sqrt(dt))  \n",
    "d = 1 / u  \n",
    "\n",
    "crr_model = CRR(N=N, T=T, r=0.05, K=80,div=0, u=u, d=d, S0=100)\n",
    "\n",
    "# Calcul du prix du Put\n",
    "put_price = crr_model.price_option(payoff_function=payoff_put)\n",
    "print(f\" Put price OTM : {put_price:.4f}\")"
   ]
  },
  {
   "cell_type": "markdown",
   "id": "57f6d087-7880-450f-9a48-dd889148f302",
   "metadata": {},
   "source": [
    "### ITM Put"
   ]
  },
  {
   "cell_type": "markdown",
   "id": "8b17ca8e-3d7a-48e6-a7cf-8e9a61a2d72a",
   "metadata": {},
   "source": [
    "We will price an In-The-Money (ITM) Put without dividends with the following parameters : \n",
    "\n",
    "- $r$ = 5%\n",
    "- $\\sigma$ = 20%\n",
    "- $T$ = 1 year\n",
    "- $S_0$ = 100\n",
    "- $K$ = 120\n",
    "- $N$ = 200\n",
    "\n",
    "The exact price for the put is $20.07$. "
   ]
  },
  {
   "cell_type": "code",
   "execution_count": 95,
   "id": "a4911fef-27da-4f0b-881a-74ab7b5f63d3",
   "metadata": {},
   "outputs": [
    {
     "name": "stdout",
     "output_type": "stream",
     "text": [
      " Put price ITM : 20.1369\n"
     ]
    }
   ],
   "source": [
    "T = 1\n",
    "sigma = 0.2\n",
    "N = 200\n",
    " \n",
    "dt = T/N\n",
    "u = np.exp(sigma * np.sqrt(dt))  \n",
    "d = 1 / u  \n",
    "\n",
    "crr_model = CRR(N=N, T=T, r=0.05, K=120, div=0,u=u, d=d, S0=100)\n",
    "\n",
    "# Calcul du prix du Put\n",
    "put_price = crr_model.price_option(payoff_function=payoff_put)\n",
    "print(f\" Put price ITM : {put_price:.4f}\")"
   ]
  },
  {
   "cell_type": "markdown",
   "id": "75de454b-4bef-4bb6-90d4-c0baa80e5084",
   "metadata": {},
   "source": [
    "### With continuous dividends"
   ]
  },
  {
   "cell_type": "markdown",
   "id": "c79b96c8-9965-4afd-b832-880774198c39",
   "metadata": {},
   "source": [
    "This algorithm is no use for an american call option without dividends. Indeed without dividends, it is always optimal to exercice the american call option at maturity, matching the BS price of an european call. \n",
    "\n",
    "Because it is not always the optimal choice for american put option, we have a little more differences due to our algorithm. \n",
    "\n",
    "We will now introduce a continuous dividends $q$ : \n",
    "\n",
    "- $r$ = 5%\n",
    "- $\\sigma$ = 20%\n",
    "- $T$ = 1 year\n",
    "- $S_0$ = 100\n",
    "- $K$ = 80,100,120\n",
    "- $N$ = 200\n",
    "- $q$ = 2%"
   ]
  },
  {
   "cell_type": "code",
   "execution_count": 103,
   "id": "75e90fa9-ba96-438a-9076-f3442045e026",
   "metadata": {},
   "outputs": [],
   "source": [
    "T = 1\n",
    "sigma = 0.2\n",
    "N = 200\n",
    " \n",
    "dt = T/N\n",
    "u = np.exp(sigma * np.sqrt(dt))  \n",
    "d = 1 / u  \n",
    "\n",
    "crr_model_1 = CRR(N=N, T=T, r=0.05, K=100, div=0.02,u=u, d=d, S0=100)\n",
    "crr_model_2 = CRR(N=N, T=T, r=0.05, K=120, div=0.02,u=u, d=d, S0=100)\n",
    "crr_model_3 = CRR(N=N, T=T, r=0.05, K=80, div=0.02,u=u, d=d, S0=100)\n",
    "\n",
    "\n",
    "# Calcul du prix du Put\n",
    "call_price_1 = crr_model_1.price_option(payoff_function=payoff_call)\n",
    "put_price_1 = crr_model_1.price_option(payoff_function=payoff_put)\n",
    "call_price_2 = crr_model_2.price_option(payoff_function=payoff_call)\n",
    "put_price_2 = crr_model_2.price_option(payoff_function=payoff_put)\n",
    "call_price_3 = crr_model_3.price_option(payoff_function=payoff_call)\n",
    "put_price_3 = crr_model_3.price_option(payoff_function=payoff_put)"
   ]
  },
  {
   "cell_type": "markdown",
   "id": "c04a8f8b-4180-4375-a13a-754bfc83d0e7",
   "metadata": {},
   "source": [
    "For $K$ = 100 : \n",
    "\n",
    "The exact price for the call is $9.23$. \n",
    "\n",
    "The exact price for the put is $6.67$. "
   ]
  },
  {
   "cell_type": "code",
   "execution_count": 104,
   "id": "782f9e7e-6a72-47f8-b46a-0c84776aeb74",
   "metadata": {},
   "outputs": [
    {
     "name": "stdout",
     "output_type": "stream",
     "text": [
      " Call price ATM : 10.6515\n",
      " Put price ATM : 6.1544\n"
     ]
    }
   ],
   "source": [
    "print(f\" Call price ATM : {call_price_1:.4f}\")\n",
    "print(f\" Put price ATM : {put_price_1:.4f}\")"
   ]
  },
  {
   "cell_type": "markdown",
   "id": "6d2d6abf-552e-4a00-bfa1-3b1a3302dc93",
   "metadata": {},
   "source": [
    "For $K$ = 120 : \n",
    "\n",
    "The exact price for the call is $2.71$. \n",
    "\n",
    "The exact price for the put is $20.43$. "
   ]
  },
  {
   "cell_type": "code",
   "execution_count": 105,
   "id": "ab321c9b-f2c1-43e5-934f-3b244c5acd26",
   "metadata": {},
   "outputs": [
    {
     "name": "stdout",
     "output_type": "stream",
     "text": [
      " Call price OTM : 3.3172\n",
      " Put price ITM : 20.1819\n"
     ]
    }
   ],
   "source": [
    "print(f\" Call price OTM : {call_price_2:.4f}\")\n",
    "print(f\" Put price ITM : {put_price_2:.4f}\")"
   ]
  },
  {
   "cell_type": "markdown",
   "id": "e5ca9c39-8eca-4a93-a834-cf6e49ca6283",
   "metadata": {},
   "source": [
    "For $K$ = 80 : \n",
    "\n",
    "The exact price for the call is $22.77$. \n",
    "\n",
    "The exact price for the put is $0.89$. "
   ]
  },
  {
   "cell_type": "code",
   "execution_count": 106,
   "id": "69d44e19-1297-45e7-9479-ddc72b762da6",
   "metadata": {},
   "outputs": [
    {
     "name": "stdout",
     "output_type": "stream",
     "text": [
      " Call price OTM : 25.0839\n",
      " Put price ITM : 0.7344\n"
     ]
    }
   ],
   "source": [
    "print(f\" Call price OTM : {call_price_3:.4f}\")\n",
    "print(f\" Put price ITM : {put_price_3:.4f}\")"
   ]
  }
 ],
 "metadata": {
  "kernelspec": {
   "display_name": "Python 3 (ipykernel)",
   "language": "python",
   "name": "python3"
  },
  "language_info": {
   "codemirror_mode": {
    "name": "ipython",
    "version": 3
   },
   "file_extension": ".py",
   "mimetype": "text/x-python",
   "name": "python",
   "nbconvert_exporter": "python",
   "pygments_lexer": "ipython3",
   "version": "3.11.5"
  }
 },
 "nbformat": 4,
 "nbformat_minor": 5
}
